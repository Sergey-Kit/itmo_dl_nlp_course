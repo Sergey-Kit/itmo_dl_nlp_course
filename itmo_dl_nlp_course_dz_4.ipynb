{
  "nbformat": 4,
  "nbformat_minor": 0,
  "metadata": {
    "colab": {
      "provenance": [],
      "include_colab_link": true
    },
    "kernelspec": {
      "name": "python3",
      "display_name": "Python 3"
    },
    "language_info": {
      "name": "python"
    }
  },
  "cells": [
    {
      "cell_type": "markdown",
      "metadata": {
        "id": "view-in-github",
        "colab_type": "text"
      },
      "source": [
        "<a href=\"https://colab.research.google.com/github/Sergey-Kit/itmo_dl_nlp_course/blob/hw_4/itmo_dl_nlp_course_dz_4.ipynb\" target=\"_parent\"><img src=\"https://colab.research.google.com/assets/colab-badge.svg\" alt=\"Open In Colab\"/></a>"
      ]
    },
    {
      "cell_type": "markdown",
      "source": [
        "## Подготовка текста под задачу классификации"
      ],
      "metadata": {
        "id": "JBsQT8dFQUdn"
      }
    },
    {
      "cell_type": "markdown",
      "source": [
        "##### 1. Установка зависимостей"
      ],
      "metadata": {
        "id": "IszsUn7eQW6N"
      }
    },
    {
      "cell_type": "code",
      "source": [
        "import numpy as np\n",
        "import pandas as pd\n",
        "import re\n",
        "import os\n",
        "import gdown\n",
        "import nltk\n",
        "from nltk.tokenize import word_tokenize\n",
        "from gensim.models import Word2Vec\n",
        "from tqdm import tqdm\n",
        "from sklearn.model_selection import train_test_split\n",
        "from sklearn.metrics import f1_score\n",
        "import torch\n",
        "import torch.nn as nn\n",
        "import torch.optim as optim\n",
        "from torch.utils.data import DataLoader, TensorDataset\n",
        "import csv"
      ],
      "metadata": {
        "id": "cq4Ld69kT7Mt"
      },
      "execution_count": 48,
      "outputs": []
    },
    {
      "cell_type": "code",
      "source": [
        "pd.set_option('max_colwidth', 100)"
      ],
      "metadata": {
        "id": "mqeuAqMWXYgi"
      },
      "execution_count": 49,
      "outputs": []
    },
    {
      "cell_type": "code",
      "source": [
        "RANDOM_STATE = 42\n",
        "torch.manual_seed(RANDOM_STATE)"
      ],
      "metadata": {
        "colab": {
          "base_uri": "https://localhost:8080/"
        },
        "id": "XF3abmvb7Ziu",
        "outputId": "debb1923-e88c-42c5-f111-4007455014e1"
      },
      "execution_count": 50,
      "outputs": [
        {
          "output_type": "execute_result",
          "data": {
            "text/plain": [
              "<torch._C.Generator at 0x79c47404ec50>"
            ]
          },
          "metadata": {},
          "execution_count": 50
        }
      ]
    },
    {
      "cell_type": "markdown",
      "source": [
        "##### 2. Загрузка датасета"
      ],
      "metadata": {
        "id": "vm4Crlx7UWoZ"
      }
    },
    {
      "cell_type": "code",
      "source": [
        "folder_path = \"/content/archive\"\n",
        "os.makedirs(folder_path, exist_ok=True)"
      ],
      "metadata": {
        "id": "byhoJKfkBOhs"
      },
      "execution_count": 61,
      "outputs": []
    },
    {
      "cell_type": "code",
      "source": [
        "true_csv_url = \"https://drive.google.com/uc?id=1e4FyQH7iKOZ4HStxnHyZGc9bObcvCUql\"\n",
        "fake_csv_url = \"https://drive.google.com/uc?id=1sLsgqklL7ULXOqb3R4pv7XASEay7t-i2\"\n",
        "folder_path = \"/content/archive\"\n",
        "gdown.download(true_csv_url, f\"{folder_path}/True.csv\", quiet=False)\n",
        "gdown.download(fake_csv_url, f\"{folder_path}/Fake.csv\", quiet=False)"
      ],
      "metadata": {
        "colab": {
          "base_uri": "https://localhost:8080/",
          "height": 182
        },
        "id": "8Nm0FWqXCO3X",
        "outputId": "006ac341-a8f9-4840-bf15-8d27a3356f19"
      },
      "execution_count": 62,
      "outputs": [
        {
          "output_type": "stream",
          "name": "stderr",
          "text": [
            "Downloading...\n",
            "From: https://drive.google.com/uc?id=1e4FyQH7iKOZ4HStxnHyZGc9bObcvCUql\n",
            "To: /content/archive/True.csv\n",
            "100%|██████████| 53.6M/53.6M [00:00<00:00, 183MB/s]\n",
            "Downloading...\n",
            "From: https://drive.google.com/uc?id=1sLsgqklL7ULXOqb3R4pv7XASEay7t-i2\n",
            "To: /content/archive/Fake.csv\n",
            "100%|██████████| 62.8M/62.8M [00:00<00:00, 216MB/s]\n"
          ]
        },
        {
          "output_type": "execute_result",
          "data": {
            "text/plain": [
              "'/content/archive/Fake.csv'"
            ],
            "application/vnd.google.colaboratory.intrinsic+json": {
              "type": "string"
            }
          },
          "metadata": {},
          "execution_count": 62
        }
      ]
    },
    {
      "cell_type": "code",
      "source": [
        "true_data = pd.read_csv('archive/True.csv')\n",
        "true_data['text'] = true_data['text'].str.split('-', n=1).str[1].str.strip()\n",
        "with open('archive/Fake.csv', 'r', encoding='utf-8') as file:\n",
        "    reader = csv.DictReader(file)\n",
        "    false_data = pd.DataFrame(reader)\n",
        "false_data['label'] = 0\n",
        "true_data['label'] = 1\n",
        "data = pd.concat([false_data, true_data], ignore_index=True)\n",
        "data['full_text'] = data['title'] + ' ' + data['text']\n",
        "data = data.drop(columns=['title', 'text', 'subject', 'date'])"
      ],
      "metadata": {
        "id": "xlYw2rmgTlMq"
      },
      "execution_count": 63,
      "outputs": []
    },
    {
      "cell_type": "markdown",
      "source": [
        "##### 3. Чистим данные"
      ],
      "metadata": {
        "id": "CNSvEqcjVRSE"
      }
    },
    {
      "cell_type": "code",
      "source": [
        "len(data['full_text'])"
      ],
      "metadata": {
        "colab": {
          "base_uri": "https://localhost:8080/"
        },
        "id": "quqYPKBAJg5-",
        "outputId": "ab2166ac-4396-407d-ed41-0a2e035ed835"
      },
      "execution_count": 64,
      "outputs": [
        {
          "output_type": "execute_result",
          "data": {
            "text/plain": [
              "44898"
            ]
          },
          "metadata": {},
          "execution_count": 64
        }
      ]
    },
    {
      "cell_type": "code",
      "source": [
        "%%time\n",
        "def clean_and_tokenize(text):\n",
        "    text = str(text).lower()\n",
        "    text = re.sub(r'[^\\w\\s]', '', text)\n",
        "\n",
        "    tokens = word_tokenize(text)\n",
        "    return tokens\n",
        "\n",
        "data['tokenized_text'] = data['full_text'].apply(clean_and_tokenize)"
      ],
      "metadata": {
        "colab": {
          "base_uri": "https://localhost:8080/"
        },
        "id": "KdmXZBpzb4Rf",
        "outputId": "b7f8138a-6ece-4531-ad1f-cdaf2a042522"
      },
      "execution_count": 65,
      "outputs": [
        {
          "output_type": "stream",
          "name": "stdout",
          "text": [
            "CPU times: user 1min 13s, sys: 1.81 s, total: 1min 15s\n",
            "Wall time: 1min 16s\n"
          ]
        }
      ]
    },
    {
      "cell_type": "code",
      "source": [
        "data.sample(5)"
      ],
      "metadata": {
        "colab": {
          "base_uri": "https://localhost:8080/",
          "height": 293
        },
        "id": "c_B5Fe_Ae6En",
        "outputId": "50f36985-8952-4caa-dccc-484f785e5d2b"
      },
      "execution_count": 66,
      "outputs": [
        {
          "output_type": "execute_result",
          "data": {
            "text/plain": [
              "       label  \\\n",
              "13285      0   \n",
              "20794      0   \n",
              "31565      1   \n",
              "38494      1   \n",
              "17669      0   \n",
              "\n",
              "                                                                                                 full_text  \\\n",
              "13285  INSANE MAN IS SCALING The Trump Tower Right Now…Has A Message For Trump [Video] Haha! No, it s n...   \n",
              "20794  LIST OF U.S. STATES With Most Illegal Aliens Wow these are some pretty eye-opening statistics Re...   \n",
              "31565  White House presses Congress on bill allowing 9/11 families to sue Saudi Arabia The White House ...   \n",
              "38494  Hariri indicates possibility of revoking his resignation Saad al-Hariri, who announced on Nov. 4...   \n",
              "17669  JUST IN: TRUMP’S LONGTIME Bodyguard Tells Congress What REALLY Happened When Russians Offered To...   \n",
              "\n",
              "                                                                                            tokenized_text  \n",
              "13285  [insane, man, is, scaling, the, trump, tower, right, nowhas, a, message, for, trump, video, haha...  \n",
              "20794  [list, of, us, states, with, most, illegal, aliens, wow, these, are, some, pretty, eyeopening, s...  \n",
              "31565  [white, house, presses, congress, on, bill, allowing, 911, families, to, sue, saudi, arabia, the...  \n",
              "38494  [hariri, indicates, possibility, of, revoking, his, resignation, saad, alhariri, who, announced,...  \n",
              "17669  [just, in, trumps, longtime, bodyguard, tells, congress, what, really, happened, when, russians,...  "
            ],
            "text/html": [
              "\n",
              "  <div id=\"df-fb09d536-d0cc-4980-95bf-79e30de8e826\" class=\"colab-df-container\">\n",
              "    <div>\n",
              "<style scoped>\n",
              "    .dataframe tbody tr th:only-of-type {\n",
              "        vertical-align: middle;\n",
              "    }\n",
              "\n",
              "    .dataframe tbody tr th {\n",
              "        vertical-align: top;\n",
              "    }\n",
              "\n",
              "    .dataframe thead th {\n",
              "        text-align: right;\n",
              "    }\n",
              "</style>\n",
              "<table border=\"1\" class=\"dataframe\">\n",
              "  <thead>\n",
              "    <tr style=\"text-align: right;\">\n",
              "      <th></th>\n",
              "      <th>label</th>\n",
              "      <th>full_text</th>\n",
              "      <th>tokenized_text</th>\n",
              "    </tr>\n",
              "  </thead>\n",
              "  <tbody>\n",
              "    <tr>\n",
              "      <th>13285</th>\n",
              "      <td>0</td>\n",
              "      <td>INSANE MAN IS SCALING The Trump Tower Right Now…Has A Message For Trump [Video] Haha! No, it s n...</td>\n",
              "      <td>[insane, man, is, scaling, the, trump, tower, right, nowhas, a, message, for, trump, video, haha...</td>\n",
              "    </tr>\n",
              "    <tr>\n",
              "      <th>20794</th>\n",
              "      <td>0</td>\n",
              "      <td>LIST OF U.S. STATES With Most Illegal Aliens Wow these are some pretty eye-opening statistics Re...</td>\n",
              "      <td>[list, of, us, states, with, most, illegal, aliens, wow, these, are, some, pretty, eyeopening, s...</td>\n",
              "    </tr>\n",
              "    <tr>\n",
              "      <th>31565</th>\n",
              "      <td>1</td>\n",
              "      <td>White House presses Congress on bill allowing 9/11 families to sue Saudi Arabia The White House ...</td>\n",
              "      <td>[white, house, presses, congress, on, bill, allowing, 911, families, to, sue, saudi, arabia, the...</td>\n",
              "    </tr>\n",
              "    <tr>\n",
              "      <th>38494</th>\n",
              "      <td>1</td>\n",
              "      <td>Hariri indicates possibility of revoking his resignation Saad al-Hariri, who announced on Nov. 4...</td>\n",
              "      <td>[hariri, indicates, possibility, of, revoking, his, resignation, saad, alhariri, who, announced,...</td>\n",
              "    </tr>\n",
              "    <tr>\n",
              "      <th>17669</th>\n",
              "      <td>0</td>\n",
              "      <td>JUST IN: TRUMP’S LONGTIME Bodyguard Tells Congress What REALLY Happened When Russians Offered To...</td>\n",
              "      <td>[just, in, trumps, longtime, bodyguard, tells, congress, what, really, happened, when, russians,...</td>\n",
              "    </tr>\n",
              "  </tbody>\n",
              "</table>\n",
              "</div>\n",
              "    <div class=\"colab-df-buttons\">\n",
              "\n",
              "  <div class=\"colab-df-container\">\n",
              "    <button class=\"colab-df-convert\" onclick=\"convertToInteractive('df-fb09d536-d0cc-4980-95bf-79e30de8e826')\"\n",
              "            title=\"Convert this dataframe to an interactive table.\"\n",
              "            style=\"display:none;\">\n",
              "\n",
              "  <svg xmlns=\"http://www.w3.org/2000/svg\" height=\"24px\" viewBox=\"0 -960 960 960\">\n",
              "    <path d=\"M120-120v-720h720v720H120Zm60-500h600v-160H180v160Zm220 220h160v-160H400v160Zm0 220h160v-160H400v160ZM180-400h160v-160H180v160Zm440 0h160v-160H620v160ZM180-180h160v-160H180v160Zm440 0h160v-160H620v160Z\"/>\n",
              "  </svg>\n",
              "    </button>\n",
              "\n",
              "  <style>\n",
              "    .colab-df-container {\n",
              "      display:flex;\n",
              "      gap: 12px;\n",
              "    }\n",
              "\n",
              "    .colab-df-convert {\n",
              "      background-color: #E8F0FE;\n",
              "      border: none;\n",
              "      border-radius: 50%;\n",
              "      cursor: pointer;\n",
              "      display: none;\n",
              "      fill: #1967D2;\n",
              "      height: 32px;\n",
              "      padding: 0 0 0 0;\n",
              "      width: 32px;\n",
              "    }\n",
              "\n",
              "    .colab-df-convert:hover {\n",
              "      background-color: #E2EBFA;\n",
              "      box-shadow: 0px 1px 2px rgba(60, 64, 67, 0.3), 0px 1px 3px 1px rgba(60, 64, 67, 0.15);\n",
              "      fill: #174EA6;\n",
              "    }\n",
              "\n",
              "    .colab-df-buttons div {\n",
              "      margin-bottom: 4px;\n",
              "    }\n",
              "\n",
              "    [theme=dark] .colab-df-convert {\n",
              "      background-color: #3B4455;\n",
              "      fill: #D2E3FC;\n",
              "    }\n",
              "\n",
              "    [theme=dark] .colab-df-convert:hover {\n",
              "      background-color: #434B5C;\n",
              "      box-shadow: 0px 1px 3px 1px rgba(0, 0, 0, 0.15);\n",
              "      filter: drop-shadow(0px 1px 2px rgba(0, 0, 0, 0.3));\n",
              "      fill: #FFFFFF;\n",
              "    }\n",
              "  </style>\n",
              "\n",
              "    <script>\n",
              "      const buttonEl =\n",
              "        document.querySelector('#df-fb09d536-d0cc-4980-95bf-79e30de8e826 button.colab-df-convert');\n",
              "      buttonEl.style.display =\n",
              "        google.colab.kernel.accessAllowed ? 'block' : 'none';\n",
              "\n",
              "      async function convertToInteractive(key) {\n",
              "        const element = document.querySelector('#df-fb09d536-d0cc-4980-95bf-79e30de8e826');\n",
              "        const dataTable =\n",
              "          await google.colab.kernel.invokeFunction('convertToInteractive',\n",
              "                                                    [key], {});\n",
              "        if (!dataTable) return;\n",
              "\n",
              "        const docLinkHtml = 'Like what you see? Visit the ' +\n",
              "          '<a target=\"_blank\" href=https://colab.research.google.com/notebooks/data_table.ipynb>data table notebook</a>'\n",
              "          + ' to learn more about interactive tables.';\n",
              "        element.innerHTML = '';\n",
              "        dataTable['output_type'] = 'display_data';\n",
              "        await google.colab.output.renderOutput(dataTable, element);\n",
              "        const docLink = document.createElement('div');\n",
              "        docLink.innerHTML = docLinkHtml;\n",
              "        element.appendChild(docLink);\n",
              "      }\n",
              "    </script>\n",
              "  </div>\n",
              "\n",
              "\n",
              "<div id=\"df-d50d6256-5ad8-4039-85e2-5e5de7c7a34b\">\n",
              "  <button class=\"colab-df-quickchart\" onclick=\"quickchart('df-d50d6256-5ad8-4039-85e2-5e5de7c7a34b')\"\n",
              "            title=\"Suggest charts.\"\n",
              "            style=\"display:none;\">\n",
              "\n",
              "<svg xmlns=\"http://www.w3.org/2000/svg\" height=\"24px\"viewBox=\"0 0 24 24\"\n",
              "     width=\"24px\">\n",
              "    <g>\n",
              "        <path d=\"M19 3H5c-1.1 0-2 .9-2 2v14c0 1.1.9 2 2 2h14c1.1 0 2-.9 2-2V5c0-1.1-.9-2-2-2zM9 17H7v-7h2v7zm4 0h-2V7h2v10zm4 0h-2v-4h2v4z\"/>\n",
              "    </g>\n",
              "</svg>\n",
              "  </button>\n",
              "\n",
              "<style>\n",
              "  .colab-df-quickchart {\n",
              "      --bg-color: #E8F0FE;\n",
              "      --fill-color: #1967D2;\n",
              "      --hover-bg-color: #E2EBFA;\n",
              "      --hover-fill-color: #174EA6;\n",
              "      --disabled-fill-color: #AAA;\n",
              "      --disabled-bg-color: #DDD;\n",
              "  }\n",
              "\n",
              "  [theme=dark] .colab-df-quickchart {\n",
              "      --bg-color: #3B4455;\n",
              "      --fill-color: #D2E3FC;\n",
              "      --hover-bg-color: #434B5C;\n",
              "      --hover-fill-color: #FFFFFF;\n",
              "      --disabled-bg-color: #3B4455;\n",
              "      --disabled-fill-color: #666;\n",
              "  }\n",
              "\n",
              "  .colab-df-quickchart {\n",
              "    background-color: var(--bg-color);\n",
              "    border: none;\n",
              "    border-radius: 50%;\n",
              "    cursor: pointer;\n",
              "    display: none;\n",
              "    fill: var(--fill-color);\n",
              "    height: 32px;\n",
              "    padding: 0;\n",
              "    width: 32px;\n",
              "  }\n",
              "\n",
              "  .colab-df-quickchart:hover {\n",
              "    background-color: var(--hover-bg-color);\n",
              "    box-shadow: 0 1px 2px rgba(60, 64, 67, 0.3), 0 1px 3px 1px rgba(60, 64, 67, 0.15);\n",
              "    fill: var(--button-hover-fill-color);\n",
              "  }\n",
              "\n",
              "  .colab-df-quickchart-complete:disabled,\n",
              "  .colab-df-quickchart-complete:disabled:hover {\n",
              "    background-color: var(--disabled-bg-color);\n",
              "    fill: var(--disabled-fill-color);\n",
              "    box-shadow: none;\n",
              "  }\n",
              "\n",
              "  .colab-df-spinner {\n",
              "    border: 2px solid var(--fill-color);\n",
              "    border-color: transparent;\n",
              "    border-bottom-color: var(--fill-color);\n",
              "    animation:\n",
              "      spin 1s steps(1) infinite;\n",
              "  }\n",
              "\n",
              "  @keyframes spin {\n",
              "    0% {\n",
              "      border-color: transparent;\n",
              "      border-bottom-color: var(--fill-color);\n",
              "      border-left-color: var(--fill-color);\n",
              "    }\n",
              "    20% {\n",
              "      border-color: transparent;\n",
              "      border-left-color: var(--fill-color);\n",
              "      border-top-color: var(--fill-color);\n",
              "    }\n",
              "    30% {\n",
              "      border-color: transparent;\n",
              "      border-left-color: var(--fill-color);\n",
              "      border-top-color: var(--fill-color);\n",
              "      border-right-color: var(--fill-color);\n",
              "    }\n",
              "    40% {\n",
              "      border-color: transparent;\n",
              "      border-right-color: var(--fill-color);\n",
              "      border-top-color: var(--fill-color);\n",
              "    }\n",
              "    60% {\n",
              "      border-color: transparent;\n",
              "      border-right-color: var(--fill-color);\n",
              "    }\n",
              "    80% {\n",
              "      border-color: transparent;\n",
              "      border-right-color: var(--fill-color);\n",
              "      border-bottom-color: var(--fill-color);\n",
              "    }\n",
              "    90% {\n",
              "      border-color: transparent;\n",
              "      border-bottom-color: var(--fill-color);\n",
              "    }\n",
              "  }\n",
              "</style>\n",
              "\n",
              "  <script>\n",
              "    async function quickchart(key) {\n",
              "      const quickchartButtonEl =\n",
              "        document.querySelector('#' + key + ' button');\n",
              "      quickchartButtonEl.disabled = true;  // To prevent multiple clicks.\n",
              "      quickchartButtonEl.classList.add('colab-df-spinner');\n",
              "      try {\n",
              "        const charts = await google.colab.kernel.invokeFunction(\n",
              "            'suggestCharts', [key], {});\n",
              "      } catch (error) {\n",
              "        console.error('Error during call to suggestCharts:', error);\n",
              "      }\n",
              "      quickchartButtonEl.classList.remove('colab-df-spinner');\n",
              "      quickchartButtonEl.classList.add('colab-df-quickchart-complete');\n",
              "    }\n",
              "    (() => {\n",
              "      let quickchartButtonEl =\n",
              "        document.querySelector('#df-d50d6256-5ad8-4039-85e2-5e5de7c7a34b button');\n",
              "      quickchartButtonEl.style.display =\n",
              "        google.colab.kernel.accessAllowed ? 'block' : 'none';\n",
              "    })();\n",
              "  </script>\n",
              "</div>\n",
              "    </div>\n",
              "  </div>\n"
            ]
          },
          "metadata": {},
          "execution_count": 66
        }
      ]
    },
    {
      "cell_type": "markdown",
      "source": [
        "##### 4. Делим выборку"
      ],
      "metadata": {
        "id": "fQrr5UaJzOhf"
      }
    },
    {
      "cell_type": "code",
      "source": [
        "X_train, X_test, y_train, y_test = train_test_split(data['tokenized_text'],\n",
        "                                                    data['label'],\n",
        "                                                    random_state=RANDOM_STATE,\n",
        "                                                    test_size=0.20\n",
        "                                                    )"
      ],
      "metadata": {
        "id": "RYrrzOecUZRW"
      },
      "execution_count": 67,
      "outputs": []
    },
    {
      "cell_type": "markdown",
      "source": [
        "##### 5. Получаем эмбендинги для обучения NN"
      ],
      "metadata": {
        "id": "rCT9XtwXhqTs"
      }
    },
    {
      "cell_type": "code",
      "source": [
        "word2vec_model = Word2Vec(sentences=X_train,\n",
        "                          vector_size=100,\n",
        "                          window=5,\n",
        "                          min_count=1,\n",
        "                          workers=1\n",
        "                          )"
      ],
      "metadata": {
        "id": "ykVI_7kbk8ih"
      },
      "execution_count": 9,
      "outputs": []
    },
    {
      "cell_type": "code",
      "source": [
        "def text_to_sequence(tokenized_text, max_length):\n",
        "    sequence = np.zeros((max_length, 100))\n",
        "    for i, word in enumerate(tokenized_text[:max_length]):\n",
        "        if word in word2vec_model.wv:\n",
        "            sequence[i] = word2vec_model.wv[word]\n",
        "    return sequence\n",
        "\n",
        "max_length = 100\n",
        "X_train_seq = np.array([text_to_sequence(text, max_length) for text in X_train])\n",
        "X_test_seq = np.array([text_to_sequence(text, max_length) for text in X_test])\n",
        "\n",
        "y_train_seq = y_train.values\n",
        "y_test_seq = y_test.values"
      ],
      "metadata": {
        "id": "xIYElrf31v80"
      },
      "execution_count": 10,
      "outputs": []
    },
    {
      "cell_type": "markdown",
      "source": [
        "## Построение моделей"
      ],
      "metadata": {
        "id": "4Vl_CRpX4bJ6"
      }
    },
    {
      "cell_type": "markdown",
      "source": [
        "##### 1. Получаем даталоадер"
      ],
      "metadata": {
        "id": "4JVaulZN8-o2"
      }
    },
    {
      "cell_type": "code",
      "source": [
        "X_train_tensor = torch.tensor(X_train_seq, dtype=torch.float32)\n",
        "y_train_tensor = torch.tensor(y_train_seq, dtype=torch.float32)\n",
        "X_test_tensor = torch.tensor(X_test_seq, dtype=torch.float32)\n",
        "y_test_tensor = torch.tensor(y_test_seq, dtype=torch.float32)\n",
        "\n",
        "train_dataset = TensorDataset(X_train_tensor, y_train_tensor)\n",
        "train_dataloader = DataLoader(train_dataset, batch_size=32, shuffle=True)"
      ],
      "metadata": {
        "id": "FEvRvIaIgVBg"
      },
      "execution_count": 13,
      "outputs": []
    },
    {
      "cell_type": "markdown",
      "source": [
        "##### 2. CNN"
      ],
      "metadata": {
        "id": "7Mdds9pr9KPd"
      }
    },
    {
      "cell_type": "code",
      "source": [
        "class CNN(nn.Module):\n",
        "    def __init__(self):\n",
        "        super(CNN, self).__init__()\n",
        "        self.conv1 = nn.Conv1d(100, 128, 5)\n",
        "        self.pool = nn.MaxPool1d(5)\n",
        "        self.fc1 = nn.Linear(128 * ((max_length - 5 + 1) // 5), 1)\n",
        "\n",
        "    def forward(self, x):\n",
        "        x = self.conv1(x)\n",
        "        x = torch.relu(x)\n",
        "        x = self.pool(x)\n",
        "        x = torch.flatten(x, 1)\n",
        "        x = self.fc1(x)\n",
        "        x = torch.sigmoid(x)\n",
        "        return x\n",
        "\n",
        "\n",
        "model_cnn = CNN()\n",
        "optimizer = optim.Adam(model_cnn.parameters(), lr=0.001)\n",
        "criterion = nn.BCELoss()\n",
        "\n",
        "epochs = 5\n",
        "\n",
        "for epoch in range(epochs):\n",
        "    epoch_loss = 0\n",
        "    for batch_X, batch_y in tqdm(train_dataloader,\n",
        "                                 desc=f\"Epoch {epoch + 1}/{epochs}\"):\n",
        "        optimizer.zero_grad()\n",
        "        outputs = model_cnn(batch_X.permute(0, 2, 1))\n",
        "        loss = criterion(outputs.squeeze(), batch_y)\n",
        "        loss.backward()\n",
        "        optimizer.step()\n",
        "        epoch_loss += loss.item()\n",
        "\n",
        "    print(f'Avg Loss: {epoch_loss / len(train_dataloader)}')"
      ],
      "metadata": {
        "colab": {
          "base_uri": "https://localhost:8080/"
        },
        "id": "F2V2xciwgUtf",
        "outputId": "7725f73b-a41f-46d3-c740-51991324d6a1"
      },
      "execution_count": 15,
      "outputs": [
        {
          "output_type": "stream",
          "name": "stderr",
          "text": [
            "Epoch 1/5: 100%|██████████| 900/900 [00:32<00:00, 27.42it/s]\n"
          ]
        },
        {
          "output_type": "stream",
          "name": "stdout",
          "text": [
            "Avg Loss: 0.08647220988227572\n"
          ]
        },
        {
          "output_type": "stream",
          "name": "stderr",
          "text": [
            "Epoch 2/5: 100%|██████████| 900/900 [00:41<00:00, 21.72it/s]\n"
          ]
        },
        {
          "output_type": "stream",
          "name": "stdout",
          "text": [
            "Avg Loss: 0.026611947608010573\n"
          ]
        },
        {
          "output_type": "stream",
          "name": "stderr",
          "text": [
            "Epoch 3/5: 100%|██████████| 900/900 [00:25<00:00, 35.38it/s]\n"
          ]
        },
        {
          "output_type": "stream",
          "name": "stdout",
          "text": [
            "Avg Loss: 0.008401938945575643\n"
          ]
        },
        {
          "output_type": "stream",
          "name": "stderr",
          "text": [
            "Epoch 4/5: 100%|██████████| 900/900 [00:25<00:00, 35.54it/s]\n"
          ]
        },
        {
          "output_type": "stream",
          "name": "stdout",
          "text": [
            "Avg Loss: 0.009696940349521064\n"
          ]
        },
        {
          "output_type": "stream",
          "name": "stderr",
          "text": [
            "Epoch 5/5: 100%|██████████| 900/900 [00:29<00:00, 30.65it/s]"
          ]
        },
        {
          "output_type": "stream",
          "name": "stdout",
          "text": [
            "Avg Loss: 0.012770473037081264\n"
          ]
        },
        {
          "output_type": "stream",
          "name": "stderr",
          "text": [
            "\n"
          ]
        }
      ]
    },
    {
      "cell_type": "markdown",
      "source": [
        "##### 3. LSTM"
      ],
      "metadata": {
        "id": "bSvmtCtN9VSy"
      }
    },
    {
      "cell_type": "code",
      "source": [
        "class LSTM(nn.Module):\n",
        "    def __init__(self):\n",
        "        super(LSTM, self).__init__()\n",
        "        self.lstm = nn.LSTM(100, 128, batch_first=True)\n",
        "        self.fc1 = nn.Linear(128, 1)\n",
        "\n",
        "    def forward(self, x):\n",
        "        h_0 = torch.zeros(1, x.size(0), 128)\n",
        "        c_0 = torch.zeros(1, x.size(0), 128)\n",
        "        out, _ = self.lstm(x, (h_0, c_0))\n",
        "        out = self.fc1(out[:, -1, :])\n",
        "        out = torch.sigmoid(out)\n",
        "        return out\n",
        "\n",
        "\n",
        "model_lstm = LSTM()\n",
        "optimizer = optim.Adam(model_lstm.parameters(), lr=0.001)\n",
        "criterion = nn.BCELoss()\n",
        "\n",
        "epochs = 5\n",
        "\n",
        "for epoch in range(epochs):\n",
        "    epoch_loss = 0\n",
        "    for batch_X, batch_y in tqdm(train_dataloader,\n",
        "                                 desc=f\"Epoch {epoch + 1}/{epochs}\"):\n",
        "        optimizer.zero_grad()\n",
        "        outputs = model_lstm(batch_X)\n",
        "        loss = criterion(outputs.squeeze(), batch_y)\n",
        "        loss.backward()\n",
        "        optimizer.step()\n",
        "        epoch_loss += loss.item()\n",
        "\n",
        "    print(f'Avg Loss: {epoch_loss / len(train_dataloader)}')"
      ],
      "metadata": {
        "colab": {
          "base_uri": "https://localhost:8080/"
        },
        "id": "854SCrtm9Qeo",
        "outputId": "904bcafd-935c-4916-8d60-b6b7733bcc24"
      },
      "execution_count": 16,
      "outputs": [
        {
          "output_type": "stream",
          "name": "stderr",
          "text": [
            "Epoch 1/5: 100%|██████████| 900/900 [01:19<00:00, 11.37it/s]\n"
          ]
        },
        {
          "output_type": "stream",
          "name": "stdout",
          "text": [
            "Avg Loss: 0.27754983050955667\n"
          ]
        },
        {
          "output_type": "stream",
          "name": "stderr",
          "text": [
            "Epoch 2/5: 100%|██████████| 900/900 [01:35<00:00,  9.44it/s]\n"
          ]
        },
        {
          "output_type": "stream",
          "name": "stdout",
          "text": [
            "Avg Loss: 0.09618883562222537\n"
          ]
        },
        {
          "output_type": "stream",
          "name": "stderr",
          "text": [
            "Epoch 3/5: 100%|██████████| 900/900 [01:19<00:00, 11.30it/s]\n"
          ]
        },
        {
          "output_type": "stream",
          "name": "stdout",
          "text": [
            "Avg Loss: 0.056765588032495644\n"
          ]
        },
        {
          "output_type": "stream",
          "name": "stderr",
          "text": [
            "Epoch 4/5: 100%|██████████| 900/900 [01:18<00:00, 11.48it/s]\n"
          ]
        },
        {
          "output_type": "stream",
          "name": "stdout",
          "text": [
            "Avg Loss: 0.04363251645751815\n"
          ]
        },
        {
          "output_type": "stream",
          "name": "stderr",
          "text": [
            "Epoch 5/5: 100%|██████████| 900/900 [01:32<00:00,  9.75it/s]"
          ]
        },
        {
          "output_type": "stream",
          "name": "stdout",
          "text": [
            "Avg Loss: 0.03511797357444367\n"
          ]
        },
        {
          "output_type": "stream",
          "name": "stderr",
          "text": [
            "\n"
          ]
        }
      ]
    },
    {
      "cell_type": "markdown",
      "source": [
        "##### 4. Рассчет"
      ],
      "metadata": {
        "id": "_87mpBh5gUhH"
      }
    },
    {
      "cell_type": "code",
      "source": [
        "def evaluate_model(model, X_test_tensor, y_test_tensor):\n",
        "    with torch.no_grad():\n",
        "        outputs = model(X_test_tensor.permute(0, 2, 1) if\n",
        "                        isinstance(model, CNN) else X_test_tensor)\n",
        "        predictions = (outputs.squeeze() > 0.5).float()\n",
        "    return f1_score(y_test_tensor, predictions)\n",
        "\n",
        "\n",
        "f1_cnn = evaluate_model(model_cnn, X_test_tensor, y_test_tensor)\n",
        "print(f\"CNN - F1: {f1_cnn}\")\n",
        "f1_lstm = evaluate_model(model_lstm, X_test_tensor, y_test_tensor)\n",
        "print(f\"LSTM - F1: {f1_lstm}\")"
      ],
      "metadata": {
        "colab": {
          "base_uri": "https://localhost:8080/"
        },
        "id": "AwYeTqOw9QL0",
        "outputId": "213b33ab-51e0-452a-aed1-94907de0d7d1"
      },
      "execution_count": 17,
      "outputs": [
        {
          "output_type": "stream",
          "name": "stdout",
          "text": [
            "CNN - F1: 0.9862566969485208\n",
            "LSTM - F1: 0.9859351389050331\n"
          ]
        }
      ]
    }
  ]
}